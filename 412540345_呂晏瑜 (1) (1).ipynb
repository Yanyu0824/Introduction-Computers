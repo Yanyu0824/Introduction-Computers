{
  "nbformat": 4,
  "nbformat_minor": 0,
  "metadata": {
    "colab": {
      "provenance": []
    },
    "kernelspec": {
      "name": "python3",
      "display_name": "Python 3"
    },
    "language_info": {
      "name": "python"
    }
  },
  "cells": [
    {
      "cell_type": "markdown",
      "source": [
        "# ***↑請記得更改作業檔名↑***"
      ],
      "metadata": {
        "id": "ITqUefYafqKB"
      }
    },
    {
      "cell_type": "markdown",
      "source": [
        "# **2024/03/11實習課作業**"
      ],
      "metadata": {
        "id": "Ki_37DgQmaaM"
      }
    },
    {
      "cell_type": "markdown",
      "source": [
        "Q1:請嘗試計算梯形面積，上底為6cm，下底為13cm，高度為7cm，求面積為何？(變數名稱可自行定義)"
      ],
      "metadata": {
        "id": "fjqmpVGvmfM1"
      }
    },
    {
      "cell_type": "code",
      "source": [
        "#第一題\n",
        "a=6\n",
        "b=13\n",
        "c=7\n",
        "area=(a+b)*c/2\n",
        "print(area)"
      ],
      "metadata": {
        "id": "7pAz6z1Om77M",
        "colab": {
          "base_uri": "https://localhost:8080/"
        },
        "outputId": "d6502ac3-4b23-433e-adaa-f07feaf43d2d"
      },
      "execution_count": 1,
      "outputs": [
        {
          "output_type": "stream",
          "name": "stdout",
          "text": [
            "66.5\n"
          ]
        }
      ]
    },
    {
      "cell_type": "markdown",
      "source": [
        "Q2:請嘗試計算100除以7.5的餘數為何？(變數名稱可自行定義)"
      ],
      "metadata": {
        "id": "Ce6nKFp7nui_"
      }
    },
    {
      "cell_type": "code",
      "source": [
        "#第二題\n",
        "a=100\n",
        "b=7.5\n",
        "A=(a%b)\n",
        "print(A)"
      ],
      "metadata": {
        "id": "zlAOzhhzmVwq",
        "colab": {
          "base_uri": "https://localhost:8080/"
        },
        "outputId": "5fee069b-b9e0-4af3-f709-4fef2a4813ba"
      },
      "execution_count": 3,
      "outputs": [
        {
          "output_type": "stream",
          "name": "stdout",
          "text": [
            "2.5\n"
          ]
        }
      ]
    },
    {
      "cell_type": "markdown",
      "source": [
        "Q3:請設定一個變數 x 之值為 「學號後5碼」，並且利用 \"除法求商\" 與 \"除法求餘數\" 的技能，來計算變數 x 已經經過了多少小時、分鐘、秒。 (請依序分別輸出)"
      ],
      "metadata": {
        "id": "47yISoZYaABO"
      }
    },
    {
      "cell_type": "code",
      "source": [
        "#第三題\n",
        "# x 變數為同學的「學號後5碼」\n",
        "x=40345\n",
        "seconds=60\n",
        "minutes=60\n",
        "hours=x//(seconds*minutes)\n",
        "remain_seconds=x%(seconds*minutes)\n",
        "minutes=remain_seconds//seconds\n",
        "seconds=remain_seconds%seconds\n",
        "print(hours)\n",
        "print(minutes)\n",
        "print(seconds)"
      ],
      "metadata": {
        "id": "sLr6uMKFiF79",
        "colab": {
          "base_uri": "https://localhost:8080/"
        },
        "outputId": "9c5e888c-fd0d-42d0-a675-8108d296e764"
      },
      "execution_count": 4,
      "outputs": [
        {
          "output_type": "stream",
          "name": "stdout",
          "text": [
            "11\n",
            "12\n",
            "25\n"
          ]
        }
      ]
    },
    {
      "cell_type": "markdown",
      "source": [
        "Q4:請撰寫一個BMI計算器，請先設定身高、體重、BMI結果這三個變數，最後再輸出BMI結果。(變數名稱可自行定義)\n"
      ],
      "metadata": {
        "id": "ZRWGiFKYc_ww"
      }
    },
    {
      "cell_type": "code",
      "source": [
        "#第四題\n",
        "# BMI公式：體重(kg) / ( 身高(m) * 身高(m) )\n",
        "weight=55\n",
        "height_cm=168\n",
        "height_m=height_cm/100\n",
        "bmi=weight/(height_m*height_m)\n",
        "print(bmi)"
      ],
      "metadata": {
        "id": "BpljglYIda4K",
        "colab": {
          "base_uri": "https://localhost:8080/"
        },
        "outputId": "8652641e-88bb-4b03-93db-a3a3c3a7ce9f"
      },
      "execution_count": 7,
      "outputs": [
        {
          "output_type": "stream",
          "name": "stdout",
          "text": [
            "19.48696145124717\n"
          ]
        }
      ]
    }
  ]
}
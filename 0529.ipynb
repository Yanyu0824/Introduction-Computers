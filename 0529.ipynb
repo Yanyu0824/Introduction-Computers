{
  "nbformat": 4,
  "nbformat_minor": 0,
  "metadata": {
    "colab": {
      "provenance": [],
      "authorship_tag": "ABX9TyMTNGufIs6+yCMk6P5/QcxI",
      "include_colab_link": true
    },
    "kernelspec": {
      "name": "python3",
      "display_name": "Python 3"
    },
    "language_info": {
      "name": "python"
    }
  },
  "cells": [
    {
      "cell_type": "markdown",
      "metadata": {
        "id": "view-in-github",
        "colab_type": "text"
      },
      "source": [
        "<a href=\"https://colab.research.google.com/github/Yanyu0824/Introduction-Computers/blob/main/0529.ipynb\" target=\"_parent\"><img src=\"https://colab.research.google.com/assets/colab-badge.svg\" alt=\"Open In Colab\"/></a>"
      ]
    },
    {
      "cell_type": "code",
      "execution_count": 1,
      "metadata": {
        "id": "FTq8RPbcORwj",
        "colab": {
          "base_uri": "https://localhost:8080/"
        },
        "outputId": "8db7aa90-0156-451b-fcfb-7ae5cf9451e1"
      },
      "outputs": [
        {
          "output_type": "stream",
          "name": "stdout",
          "text": [
            "[0, 1, 2, 3, 4, 5, 6, 7, 8]\n",
            "[1, 2, 3, 4, 5, 6, 7, 8, 9]\n",
            "[1, 3, 5, 7, 9]\n",
            "[10, 8, 6, 4, 2]\n"
          ]
        }
      ],
      "source": [
        "a=range(9)\n",
        "print(list(a))\n",
        "b=range(1,10)\n",
        "print(list(b))\n",
        "c=range(1,10,2)\n",
        "print(list(c))\n",
        "d=range(10,1,-2)\n",
        "print(list(d))"
      ]
    },
    {
      "cell_type": "code",
      "source": [
        "test=int(input('請輸入一個正整數'))\n",
        "for i in range(1,test+1):\n",
        "  print(i,end=' ')"
      ],
      "metadata": {
        "colab": {
          "base_uri": "https://localhost:8080/"
        },
        "id": "S5ZGLrgmQEBX",
        "outputId": "b22676ba-3fe2-4bcc-b622-42e63bc4adf2"
      },
      "execution_count": 2,
      "outputs": [
        {
          "output_type": "stream",
          "name": "stdout",
          "text": [
            "請輸入一個正整數10\n",
            "1 2 3 4 5 6 7 8 9 10 "
          ]
        }
      ]
    },
    {
      "cell_type": "code",
      "source": [
        "test=int(input('請輸入一個正整數'))\n",
        "for i in range(1,test+1,2):\n",
        "  print(i,end=' ')"
      ],
      "metadata": {
        "colab": {
          "base_uri": "https://localhost:8080/"
        },
        "id": "hJ0Rmxl0Qi8Q",
        "outputId": "d4049264-6141-4c95-80a2-d938a93c3e8a"
      },
      "execution_count": 3,
      "outputs": [
        {
          "output_type": "stream",
          "name": "stdout",
          "text": [
            "請輸入一個正整數10\n",
            "1 3 5 7 9 "
          ]
        }
      ]
    },
    {
      "cell_type": "code",
      "source": [
        "sum=0\n",
        "for i in range(3):\n",
        "  sum=sum+i\n",
        "print(sum)"
      ],
      "metadata": {
        "colab": {
          "base_uri": "https://localhost:8080/"
        },
        "id": "EXGDzTbeREcZ",
        "outputId": "7a0a36b9-9d4f-4d37-a228-d70a7797bad9"
      },
      "execution_count": 8,
      "outputs": [
        {
          "output_type": "stream",
          "name": "stdout",
          "text": [
            "3\n"
          ]
        }
      ]
    },
    {
      "cell_type": "code",
      "source": [
        "sum=0\n",
        "for i in range(5):\n",
        "  sum=sum+i\n",
        "print(sum)"
      ],
      "metadata": {
        "colab": {
          "base_uri": "https://localhost:8080/"
        },
        "id": "XsyVcq6SQpBM",
        "outputId": "19cfffb9-1d74-42a1-fbcc-4d1a105de8c3"
      },
      "execution_count": 9,
      "outputs": [
        {
          "output_type": "stream",
          "name": "stdout",
          "text": [
            "10\n"
          ]
        }
      ]
    },
    {
      "cell_type": "code",
      "source": [
        "n=int(input('請輸入一個正整數:'))\n",
        "sum=0\n",
        "for i in range(1,n+1):\n",
        "  sum=sum+i\n",
        "print('1到{}的整數合為 {}'.format(i,sum))"
      ],
      "metadata": {
        "colab": {
          "base_uri": "https://localhost:8080/"
        },
        "id": "TofEIURqRLLf",
        "outputId": "72a0f11d-aab1-4849-d6de-3d3f206dc170"
      },
      "execution_count": 48,
      "outputs": [
        {
          "output_type": "stream",
          "name": "stdout",
          "text": [
            "請輸入一個正整數:10\n",
            "1到10的整數合為 55\n"
          ]
        }
      ]
    },
    {
      "cell_type": "code",
      "source": [
        "n=int(input('請輸入一個正整數:'))\n",
        "sum=0\n",
        "for i in range(1,n+1):\n",
        "  sum=sum+i\n",
        "print('1到{}的整數合為 {}'.format(i,sum))"
      ],
      "metadata": {
        "colab": {
          "base_uri": "https://localhost:8080/"
        },
        "id": "VLvzTOW_U0Kf",
        "outputId": "8b79c002-59ea-4f70-e4ff-9ccbfdd548fd"
      },
      "execution_count": 51,
      "outputs": [
        {
          "output_type": "stream",
          "name": "stdout",
          "text": [
            "請輸入一個正整數:50\n",
            "1到50的整數合為 1275\n"
          ]
        }
      ]
    },
    {
      "cell_type": "code",
      "source": [
        "n=int(input('請輸入一個正整數:'))\n",
        "sum=0\n",
        "for i in range(1,n+1):\n",
        "  sum += i\n",
        "  print('1到{}的整數合為 {}'.format(i,sum))"
      ],
      "metadata": {
        "colab": {
          "base_uri": "https://localhost:8080/"
        },
        "id": "_5kFbs1BU7RM",
        "outputId": "c7dcb52e-6c8b-489d-e284-5e8b3163ffb7"
      },
      "execution_count": 49,
      "outputs": [
        {
          "output_type": "stream",
          "name": "stdout",
          "text": [
            "請輸入一個正整數:10\n",
            "1到1的整數合為 1\n",
            "1到2的整數合為 3\n",
            "1到3的整數合為 6\n",
            "1到4的整數合為 10\n",
            "1到5的整數合為 15\n",
            "1到6的整數合為 21\n",
            "1到7的整數合為 28\n",
            "1到8的整數合為 36\n",
            "1到9的整數合為 45\n",
            "1到10的整數合為 55\n"
          ]
        }
      ]
    }
  ]
}
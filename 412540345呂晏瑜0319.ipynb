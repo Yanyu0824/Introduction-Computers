{
  "nbformat": 4,
  "nbformat_minor": 0,
  "metadata": {
    "colab": {
      "provenance": [],
      "name": "412540345呂晏瑜0319.ipynb",
      "authorship_tag": "ABX9TyNeMwbYnBR/JDuDOA6vGzFM",
      "include_colab_link": true
    },
    "kernelspec": {
      "name": "python3",
      "display_name": "Python 3"
    },
    "language_info": {
      "name": "python"
    }
  },
  "cells": [
    {
      "cell_type": "markdown",
      "metadata": {
        "id": "view-in-github",
        "colab_type": "text"
      },
      "source": [
        "<a href=\"https://colab.research.google.com/github/Yanyu0824/Introduction-Computers/blob/main/412540345%E5%91%82%E6%99%8F%E7%91%9C0319.ipynb\" target=\"_parent\"><img src=\"https://colab.research.google.com/assets/colab-badge.svg\" alt=\"Open In Colab\"/></a>"
      ]
    },
    {
      "cell_type": "code",
      "source": [
        "a=int(input('請輸入國文成績'))"
      ],
      "metadata": {
        "colab": {
          "base_uri": "https://localhost:8080/"
        },
        "id": "teo-IKpklEhQ",
        "outputId": "85d5f08c-943e-4d26-b8cb-d491d085e7d6"
      },
      "execution_count": null,
      "outputs": [
        {
          "name": "stdout",
          "output_type": "stream",
          "text": [
            "請輸入國文成績50\n"
          ]
        }
      ]
    },
    {
      "cell_type": "code",
      "source": [
        "print(type('國文'))"
      ],
      "metadata": {
        "colab": {
          "base_uri": "https://localhost:8080/"
        },
        "id": "PSJ1Gc3iosbV",
        "outputId": "a3f406b8-2e7a-4114-f158-d8ff23a34bde"
      },
      "execution_count": null,
      "outputs": [
        {
          "output_type": "stream",
          "name": "stdout",
          "text": [
            "<class 'str'>\n"
          ]
        }
      ]
    },
    {
      "cell_type": "code",
      "source": [
        "b=int(input('請輸入英文成績'))"
      ],
      "metadata": {
        "colab": {
          "base_uri": "https://localhost:8080/"
        },
        "id": "tV1JkRaAlX2S",
        "outputId": "cbff707a-e659-4c6c-bf59-b30d412d7def"
      },
      "execution_count": null,
      "outputs": [
        {
          "name": "stdout",
          "output_type": "stream",
          "text": [
            "請輸入英文成績60\n"
          ]
        }
      ]
    },
    {
      "cell_type": "code",
      "source": [
        "print(type('英文'))"
      ],
      "metadata": {
        "colab": {
          "base_uri": "https://localhost:8080/"
        },
        "id": "F9zcW6eXo2mb",
        "outputId": "a838ce44-71a4-4e95-bc6f-9d0df6446245"
      },
      "execution_count": null,
      "outputs": [
        {
          "output_type": "stream",
          "name": "stdout",
          "text": [
            "<class 'str'>\n"
          ]
        }
      ]
    },
    {
      "cell_type": "code",
      "source": [
        "c=int(input('請輸入數學成績'))"
      ],
      "metadata": {
        "colab": {
          "base_uri": "https://localhost:8080/"
        },
        "id": "0ncnwvTRlelz",
        "outputId": "daf88e1d-94c8-41d9-da37-32534c33ff54"
      },
      "execution_count": null,
      "outputs": [
        {
          "name": "stdout",
          "output_type": "stream",
          "text": [
            "請輸入數學成績70\n"
          ]
        }
      ]
    },
    {
      "cell_type": "code",
      "source": [
        "print(type('數學'))"
      ],
      "metadata": {
        "colab": {
          "base_uri": "https://localhost:8080/"
        },
        "id": "XvsupuM_o7ML",
        "outputId": "d9ebebf7-38f4-4ba2-ea39-53c25b03322f"
      },
      "execution_count": null,
      "outputs": [
        {
          "output_type": "stream",
          "name": "stdout",
          "text": [
            "<class 'str'>\n"
          ]
        }
      ]
    },
    {
      "cell_type": "code",
      "source": [
        "total=a+b+c"
      ],
      "metadata": {
        "id": "nf_sSELIllmz"
      },
      "execution_count": null,
      "outputs": []
    },
    {
      "cell_type": "code",
      "source": [
        "print('你成績總分為:%3d'%total)"
      ],
      "metadata": {
        "colab": {
          "base_uri": "https://localhost:8080/"
        },
        "id": "LP_qzfF9ruvK",
        "outputId": "88dd6a52-12e4-4082-b50a-5abb33396093"
      },
      "execution_count": null,
      "outputs": [
        {
          "output_type": "stream",
          "name": "stdout",
          "text": [
            "你成績總分為:180\n"
          ]
        }
      ]
    },
    {
      "cell_type": "code",
      "source": [],
      "metadata": {
        "id": "91WTsnINthno"
      },
      "execution_count": null,
      "outputs": []
    },
    {
      "cell_type": "code",
      "source": [
        "d=int(input('請輸入梯形上底長度:'))"
      ],
      "metadata": {
        "colab": {
          "base_uri": "https://localhost:8080/"
        },
        "id": "aoIlYBk7uYxP",
        "outputId": "6adf48a7-41c3-47c2-cc06-58e59a67e561"
      },
      "execution_count": null,
      "outputs": [
        {
          "name": "stdout",
          "output_type": "stream",
          "text": [
            "請輸入梯形上底長度:3\n"
          ]
        }
      ]
    },
    {
      "cell_type": "code",
      "source": [
        "e=int(input('請輸入梯形下底長度:'))"
      ],
      "metadata": {
        "colab": {
          "base_uri": "https://localhost:8080/"
        },
        "id": "5e6RBu4Rux0u",
        "outputId": "99091c3c-a9d7-4734-f793-588e3b357299"
      },
      "execution_count": null,
      "outputs": [
        {
          "name": "stdout",
          "output_type": "stream",
          "text": [
            "請輸入梯形下底長度:4\n"
          ]
        }
      ]
    },
    {
      "cell_type": "code",
      "source": [
        "f=int(input('請輸入梯形高度：'))"
      ],
      "metadata": {
        "colab": {
          "base_uri": "https://localhost:8080/"
        },
        "id": "ZVKI1LcIvSgy",
        "outputId": "b5a75498-f383-411b-c169-6e18973fdf43"
      },
      "execution_count": null,
      "outputs": [
        {
          "name": "stdout",
          "output_type": "stream",
          "text": [
            "請輸入梯形高度：3\n"
          ]
        }
      ]
    },
    {
      "cell_type": "code",
      "source": [
        "area=(d+e)*f/2"
      ],
      "metadata": {
        "id": "m0GERRw0vZ81"
      },
      "execution_count": null,
      "outputs": []
    },
    {
      "cell_type": "code",
      "source": [
        "print('上底長度為:%3d'%d)"
      ],
      "metadata": {
        "colab": {
          "base_uri": "https://localhost:8080/"
        },
        "id": "0U3kPkuev4k3",
        "outputId": "4abd611f-7aff-49de-9f05-320bfa7f0eb4"
      },
      "execution_count": null,
      "outputs": [
        {
          "output_type": "stream",
          "name": "stdout",
          "text": [
            "上底長度為:  3\n"
          ]
        }
      ]
    },
    {
      "cell_type": "code",
      "source": [
        "print('下底長度為:%3d'%e)"
      ],
      "metadata": {
        "colab": {
          "base_uri": "https://localhost:8080/"
        },
        "id": "aUi9QL_91FJ7",
        "outputId": "0091755c-55f6-4f6c-984d-1b8e4a045790"
      },
      "execution_count": null,
      "outputs": [
        {
          "output_type": "stream",
          "name": "stdout",
          "text": [
            "下底長度為:  4\n"
          ]
        }
      ]
    },
    {
      "cell_type": "code",
      "source": [
        "print('高度為:%3d'%f)"
      ],
      "metadata": {
        "colab": {
          "base_uri": "https://localhost:8080/"
        },
        "id": "hu-KVrjZ1G0b",
        "outputId": "d913e2ea-9869-4e59-9c28-f3755d7c5f6d"
      },
      "execution_count": null,
      "outputs": [
        {
          "output_type": "stream",
          "name": "stdout",
          "text": [
            "高度為:  3\n"
          ]
        }
      ]
    },
    {
      "cell_type": "code",
      "source": [
        "print('面積為:%3g'%area)"
      ],
      "metadata": {
        "colab": {
          "base_uri": "https://localhost:8080/"
        },
        "id": "Behi96yfzFBO",
        "outputId": "b0fabde2-b3ef-450b-b4bc-8144bb8861b1"
      },
      "execution_count": null,
      "outputs": [
        {
          "output_type": "stream",
          "name": "stdout",
          "text": [
            "面積為:10.5\n"
          ]
        }
      ]
    },
    {
      "cell_type": "code",
      "source": [
        "g=int(input('請輸入你的身高（cm):'))"
      ],
      "metadata": {
        "colab": {
          "base_uri": "https://localhost:8080/"
        },
        "id": "xdhamIuXzFPi",
        "outputId": "698ae909-151c-43de-ec21-1aa46153a736"
      },
      "execution_count": null,
      "outputs": [
        {
          "name": "stdout",
          "output_type": "stream",
          "text": [
            "請輸入你的身高（cm):180\n"
          ]
        }
      ]
    },
    {
      "cell_type": "code",
      "source": [
        "h=int(input('請輸入你的體重:'))"
      ],
      "metadata": {
        "colab": {
          "base_uri": "https://localhost:8080/"
        },
        "id": "CN8faQQ4zPK-",
        "outputId": "2e0a7837-0556-4eac-f890-8f850d90fcb2"
      },
      "execution_count": null,
      "outputs": [
        {
          "name": "stdout",
          "output_type": "stream",
          "text": [
            "請輸入你的體重:80\n"
          ]
        }
      ]
    },
    {
      "cell_type": "code",
      "source": [],
      "metadata": {
        "id": "rR1ghrCLze-v"
      },
      "execution_count": null,
      "outputs": []
    }
  ]
}
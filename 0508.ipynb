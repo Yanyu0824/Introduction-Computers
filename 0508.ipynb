{
  "nbformat": 4,
  "nbformat_minor": 0,
  "metadata": {
    "colab": {
      "provenance": [],
      "authorship_tag": "ABX9TyM9WSeCqqQJCVkV3snuQRQO",
      "include_colab_link": true
    },
    "kernelspec": {
      "name": "python3",
      "display_name": "Python 3"
    },
    "language_info": {
      "name": "python"
    }
  },
  "cells": [
    {
      "cell_type": "markdown",
      "metadata": {
        "id": "view-in-github",
        "colab_type": "text"
      },
      "source": [
        "<a href=\"https://colab.research.google.com/github/Yanyu0824/Introduction-Computers/blob/main/0508.ipynb\" target=\"_parent\"><img src=\"https://colab.research.google.com/assets/colab-badge.svg\" alt=\"Open In Colab\"/></a>"
      ]
    },
    {
      "cell_type": "code",
      "source": [
        "T=float(input('請輸入體溫：'))\n",
        "if(T>=37.5):\n",
        "  print('體溫過高！')\n",
        "  elif(T<37.5 and T>=37):\n",
        "   print('體溫略高！')\n",
        "  elif(T<36.9 and T>=34):\n",
        "   print('體溫正常！')\n",
        "else:\n",
        "  print('體溫異常，請重新測量！')"
      ],
      "metadata": {
        "colab": {
          "base_uri": "https://localhost:8080/",
          "height": 106
        },
        "id": "ERIg5HzKfIJl",
        "outputId": "6387369b-aa7e-49b8-94fc-e323d09fe5ec"
      },
      "execution_count": 33,
      "outputs": [
        {
          "output_type": "error",
          "ename": "SyntaxError",
          "evalue": "invalid syntax (<ipython-input-33-5146778f1045>, line 4)",
          "traceback": [
            "\u001b[0;36m  File \u001b[0;32m\"<ipython-input-33-5146778f1045>\"\u001b[0;36m, line \u001b[0;32m4\u001b[0m\n\u001b[0;31m    elif(T<37.5 and T>=37):\u001b[0m\n\u001b[0m    ^\u001b[0m\n\u001b[0;31mSyntaxError\u001b[0m\u001b[0;31m:\u001b[0m invalid syntax\n"
          ]
        }
      ]
    },
    {
      "cell_type": "code",
      "source": [
        "N=int(input('請輸入成績：'))\n",
        "if(N>=90):\n",
        "  elif(N>80 and N<89):\n",
        "   print('B'.format(N))\n",
        "  elif(N>70 and N<79):\n",
        "   print('C'.format(N))\n",
        "  elif:(N>60 and N<69):\n",
        "    print('D'.format(N))\n",
        "  else:\n",
        "    print('E'.format(N))"
      ],
      "metadata": {
        "colab": {
          "base_uri": "https://localhost:8080/",
          "height": 106
        },
        "id": "6sVtmCibnbBI",
        "outputId": "3fdced12-7b7c-47b1-f960-77a99aba48de"
      },
      "execution_count": 22,
      "outputs": [
        {
          "output_type": "error",
          "ename": "SyntaxError",
          "evalue": "invalid syntax (<ipython-input-22-c77a73913526>, line 3)",
          "traceback": [
            "\u001b[0;36m  File \u001b[0;32m\"<ipython-input-22-c77a73913526>\"\u001b[0;36m, line \u001b[0;32m3\u001b[0m\n\u001b[0;31m    elif(N>>80 and N<<89):\u001b[0m\n\u001b[0m    ^\u001b[0m\n\u001b[0;31mSyntaxError\u001b[0m\u001b[0;31m:\u001b[0m invalid syntax\n"
          ]
        }
      ]
    },
    {
      "cell_type": "code",
      "source": [
        "month=int(input())\n",
        "if(month>=1 and month <=12):\n",
        "  if(month==3 or month==4 or month==5):\n",
        "    print('{} is 春天'.format(month))\n",
        "  elif(month==6 or month==7 or month==8):\n",
        "    print('{} is 夏天'.format(month))\n",
        "  elif(month==9 or month==10 or month==11):\n",
        "    print('{} is 秋天',format(month))\n",
        "  else:\n",
        "    print('{} is 冬天'.format(month))\n",
        "else:\n",
        "  print('Input Error')"
      ],
      "metadata": {
        "colab": {
          "base_uri": "https://localhost:8080/"
        },
        "id": "XTBbJJm4rF-D",
        "outputId": "4312d2b2-639b-4dd9-bb6b-26ab2ebfbf43"
      },
      "execution_count": 27,
      "outputs": [
        {
          "output_type": "stream",
          "name": "stdout",
          "text": [
            "8\n",
            "8 is 夏天\n"
          ]
        }
      ]
    }
  ]
}